{
 "cells": [
  {
   "cell_type": "markdown",
   "metadata": {
    "slideshow": {
     "slide_type": "slide"
    }
   },
   "source": [
    "# Project: farkle dice game\n",
    "\n",
    "### code style\n",
    "\n",
    "<br><br>\n",
    "\n",
    "**Spencer Lyon and Chase Coleman**"
   ]
  },
  {
   "cell_type": "markdown",
   "metadata": {
    "slideshow": {
     "slide_type": "subslide"
    }
   },
   "source": [
    "## Review\n",
    "\n",
    "* `git`: Version control\n",
    "* We developed a `Dice` class"
   ]
  },
  {
   "cell_type": "markdown",
   "metadata": {
    "slideshow": {
     "slide_type": "slide"
    }
   },
   "source": [
    "## Code style\n",
    "\n",
    "Two quotes that are central to my code writing dogma:\n",
    "\n",
    "> Code is read more often than it is written\n",
    ">\n",
    "> \\- Guido Van Rossum (Creator of Python)\n",
    "\n",
    "> Always code as if the personwho ends up maintaining your code will be a violent psychopath who knows where you live. Code for readability."
   ]
  },
  {
   "cell_type": "markdown",
   "metadata": {
    "slideshow": {
     "slide_type": "subslide"
    }
   },
   "source": [
    "This emphasis on readability means that having your code be bug-free is *not enough*, rather, you must write your code to be presentable and readable\n",
    "\n",
    "This is one way (of many ways) that writing good code is similar to writing a research paper or presenting your analysis\n",
    "\n",
    "**Pep 8**\n",
    "\n",
    "Similar to how standards have developed for research writing or other presentations, Python has adopted some standards for how to make your code readable.\n",
    "\n",
    "These standards are called [pep 8](https://www.python.org/dev/peps/pep-0008/)"
   ]
  },
  {
   "cell_type": "markdown",
   "metadata": {
    "slideshow": {
     "slide_type": "subslide"
    }
   },
   "source": [
    "### Pep 8\n",
    "\n",
    "Unbeknownst to you, we have already shown you some of these standards in the way that we have written our code.\n",
    "\n",
    "<br>\n",
    "\n",
    "For example, pep 8 dictates that module and package names should be all lower case (`farkle` is the name of our package)\n",
    "\n",
    "<br>\n",
    "\n",
    "We won't have time to review everything from pep 8 and, similar to our recommendation for writing research papers or presentations, we think it's important to eventually learn when it makes sense to \"break the rules\""
   ]
  },
  {
   "cell_type": "code",
   "execution_count": null,
   "metadata": {
    "slideshow": {
     "slide_type": "subslide"
    }
   },
   "outputs": [],
   "source": [
    "import random\n",
    "\n",
    "\n",
    "class Dice(object):\n",
    "    \"\"\"\n",
    "    A 6-sided dice object that can be used in dice games implemented\n",
    "    in Python\n",
    "\n",
    "    The dice can take the values 1, 2, 3, 4, 5, 6\n",
    "\n",
    "    The dice keeps track of the most recently rolled value in the\n",
    "    `value` property. This value is `None` until the dice is rolled.\n",
    "\n",
    "    Methods\n",
    "    -------\n",
    "    roll :\n",
    "        Rolls the dice and gives a random integer\n",
    "    \"\"\"\n",
    "\n",
    "    def __init__(self, value: Optional[int] = None):\n",
    "        self.value = value\n",
    "        self.unicode_dice = {\n",
    "            1: \"\\u2680\",\n",
    "            2: \"\\u2681\",\n",
    "            3: \"\\u2682\",\n",
    "            4: \"\\u2683\",\n",
    "            5: \"\\u2684\",\n",
    "            6: \"\\u2685\",\n",
    "        }\n",
    "        if value is None:\n",
    "            self.roll()\n",
    "\n",
    "    def __eq__(self, other: \"Dice\"):\n",
    "        return self.value == other.value\n",
    "\n",
    "    def __repr__(self):\n",
    "        if self.value is None:\n",
    "            msg = \"The dice has not been rolled\"\n",
    "        else:\n",
    "            msg = f\"{self.unicode_dice[self.value]}\"\n",
    "\n",
    "        return msg\n",
    "\n",
    "    def roll(self):\n",
    "        \"\"\"\n",
    "        Rolls the dice and reset the current value\n",
    "\n",
    "        Returns\n",
    "        -------\n",
    "        value : int\n",
    "            The number rolled by the dice\n",
    "        \"\"\"\n",
    "        value = random.randint(1, 6)\n",
    "        self.value = value\n",
    "\n",
    "        return value\n",
    "\n"
   ]
  },
  {
   "cell_type": "markdown",
   "metadata": {
    "slideshow": {
     "slide_type": "subslide"
    }
   },
   "source": [
    "**Comments**\n",
    "\n",
    "* Comments should be complete sentences. The first word should be capitalized, unless it is an identifier that begins with a lower case letter (never alter the case of identifiers!).\n",
    "* An inline comment is a comment on the same line as a statement. Inline comments should be separated by at least two spaces from the statement. They should start with a # and a single space. (Use them sparingly!)\n",
    "\n",
    "**Documentation**\n",
    "\n",
    "* Write docstrings for all public modules, functions, classes, and methods. Docstrings are not necessary for non-public methods, but you should have a comment that describes what the method does. This comment should appear after the def line.\n",
    "\n",
    "**Indentation**\n",
    "\n",
    "* All indendation in Python should be done with 4 spaces.\n",
    "* There should be no mixing of tabs and spaces.\n",
    "\n",
    "**Line length**\n",
    "\n",
    "* Lines should be less than 79 characters with comments stopping at 72 characters\n",
    "\n",
    "**Naming conventions**\n",
    "\n",
    "* Class names should be CapWords (capitalize the first letter of each word) and method names should be all lowercase with underscores as necessary for readability\n",
    "* Function names and variable names should be all lowercase with underscores as necessary for readability\n",
    "* Module names and package names should be all lowercase and aim to be short\n",
    "\n",
    "**White space**\n",
    "\n",
    "* Use white space to improve readability\n",
    "* There should be two blank lines between functions and classes and a single blank line between class methods\n",
    "* Commas should include a space after them\n",
    "* There should almost always be whitespace on either side of a binary operator `<=, <, +, -, *...`\n",
    "* Do not align your `=` signs"
   ]
  },
  {
   "cell_type": "markdown",
   "metadata": {
    "slideshow": {
     "slide_type": "slide"
    }
   },
   "source": [
    "## Creating the `State`\n",
    "\n",
    "We now return to our Python implementation of farkle.\n",
    "\n",
    "The next step is to define the state for our game.\n",
    "\n",
    "We intend for the state to be able to contain enough information for a `FarklePlayer` to make a decision and to determine any of the within turn outcomes that could occur.\n",
    "\n",
    "What information is necessary for a player to make a decision? How would you store this information? What else should the `State` know about?\n",
    "\n",
    "**Exercise**: Spend 15-20 minutes thinking about how you would implement this code. What methods need to be defined? What should they return? Write a template for this class which includes the class name, documentation, and placeholders for the methods (an example of what this would have looked like for our `Dice` class is below)."
   ]
  },
  {
   "cell_type": "code",
   "execution_count": null,
   "metadata": {
    "slideshow": {
     "slide_type": "fragment"
    }
   },
   "outputs": [],
   "source": [
    "import random\n",
    "\n",
    "\n",
    "class Dice(object):\n",
    "    \"\"\"\n",
    "    A 6-sided dice object that can be used in dice games implemented\n",
    "    in Python\n",
    "\n",
    "    The dice can take the values 1, 2, 3, 4, 5, 6\n",
    "\n",
    "    The dice keeps track of the most recently rolled value in the\n",
    "    `value` property. This value is `None` until the dice is rolled.\n",
    "\n",
    "    Methods\n",
    "    -------\n",
    "    roll :\n",
    "        Rolls the dice and gives a random integer\n",
    "    \"\"\"\n",
    "\n",
    "    def __init__(self, value=None):\n",
    "        pass\n",
    "\n",
    "    def roll(self):\n",
    "        \"\"\"\n",
    "        Rolls the dice and reset the current value\n",
    "\n",
    "        Returns\n",
    "        -------\n",
    "        value : int\n",
    "            The number rolled by the dice\n",
    "        \"\"\"\n",
    "        pass\n"
   ]
  },
  {
   "cell_type": "markdown",
   "metadata": {
    "slideshow": {
     "slide_type": "subslide"
    }
   },
   "source": [
    "### `State`: Our template\n"
   ]
  },
  {
   "cell_type": "code",
   "execution_count": null,
   "metadata": {
    "slideshow": {
     "slide_type": "-"
    }
   },
   "outputs": [],
   "source": [
    "class State:\n",
    "    # public game state\n",
    "    current_round\n",
    "    scores\n",
    "    can_roll\n",
    "    rolled_dice\n",
    "    turn_sum\n",
    "\n",
    "    # internal state\n",
    "    _n_players\n",
    "\n",
    "    def __init__(self, n_players):\n",
    "        pass\n",
    "\n",
    "    def current_player(self) -> int:\n",
    "        pass\n",
    "\n",
    "    def end_turn(self, forced: bool = False) -> \"State\":\n",
    "        \"\"\"\n",
    "        End the turn for the current player\n",
    "\n",
    "        If the player was not forced to end, the `turn_sum` is added to their score\n",
    "\n",
    "        Parameters\n",
    "        ----------\n",
    "        forced: bool, default=False\n",
    "            A boolean indicating if the player was forced to end his/her turn. If true,\n",
    "            the player does not get any points for this turn.\n",
    "\n",
    "        Returns\n",
    "        -------\n",
    "        new_state: State\n",
    "            A new instance of the state is returned recording updated score,\n",
    "            refreshed dice, and reset current sum\n",
    "        \"\"\"\n",
    "        pass\n",
    "\n",
    "    def roll(self):\n",
    "        \"\"\"\n",
    "        Determines which dice can be rolled and rolls the dice\n",
    "        \n",
    "        Returns\n",
    "        -------\n",
    "        out : State\n",
    "            A new copy of the state where dice have been rolled\n",
    "        \"\"\"\n",
    "        pass\n",
    "\n",
    "    def play_dice(self, action):\n",
    "        \"\"\"\n",
    "        Plays the action indicated by the players\n",
    "        \n",
    "        1. Adds value of the action\n",
    "        2. Sets aside any dice that were used\n",
    "        3. Determines how many dice the player can use for next turn\n",
    "        \"\"\"\n",
    "        pass\n",
    "\n",
    "    def enumerate_options(self, rolled_dice=None):\n",
    "        \"\"\"\n",
    "        Given a list of dice, it computes all of the possible ways\n",
    "        that one can score\n",
    "\n",
    "        Parameters\n",
    "        ----------\n",
    "        rolled_dice: Optional[List[Dice]]\n",
    "            A list of dice for which to enumerate options. If None are passed\n",
    "            then `self.rolled_dice` is used\n",
    "\n",
    "        Returns\n",
    "        -------\n",
    "        opportunities : List[Action]\n",
    "            A list of valid actions for a player\n",
    "        \"\"\"\n",
    "        pass\n"
   ]
  },
  {
   "cell_type": "markdown",
   "metadata": {
    "slideshow": {
     "slide_type": "slide"
    }
   },
   "source": [
    "**`git` branching**\n",
    "\n",
    "A branch is a way to do work on a potentially separate history. This allows you to make changes without fear of \"breaking\" your current version\n",
    "\n",
    "Recall that we've already added our `Dice` class to our git repository. We will create a new branch for this new code so that we can test it without modifying our main repository -- This way, if we break something, then it won't break in our main reference.\n",
    "\n",
    "\n",
    "<br>\n",
    "\n",
    "<div style=\"max-width: 600px; margin:0 auto;\">\n",
    "  <img src=\"https://gitbookdown.site/img/git_branch_merge.png\" style=\"max-width:100%;\"/>\n",
    "</div>\n",
    "\n",
    "\n",
    "We can create a new branch by doing `git branch -b <branch_name>`\n",
    "\n",
    "We will move to the command-prompt/terminal and do this. We will then add our `FarklePlayer` code to this branch and we will show you how to merge one branch into another with `git merge`"
   ]
  },
  {
   "cell_type": "markdown",
   "metadata": {
    "slideshow": {
     "slide_type": "subslide"
    }
   },
   "source": [
    "**github, bitbucket, and gitlab**\n",
    "\n",
    "While you could use git on your own, one of the places that it really shines is in conjunction with a remote server which allows for easy collaboration.\n",
    "\n",
    "Some of the most used of these remote servers are cloud based and come paired with our collaboration tools.\n",
    "\n",
    "* [bitbucket](https://bitbucket.org/product)\n",
    "* [github](https://github.com/)\n",
    "* [gitlab](https://about.gitlab.com/)"
   ]
  },
  {
   "cell_type": "markdown",
   "metadata": {
    "slideshow": {
     "slide_type": "subslide"
    }
   },
   "source": [
    "**Clone**\n",
    "\n",
    "You can download a repository from one of these remote servers by using the `clone` command\n",
    "\n",
    "`git clone git@github.com:sglyon/farkle.git`\n",
    "\n",
    "(if your code already exists on your local computer and you'd like to connect it to an existing repository, it may be easier to [add a remote](https://git-scm.com/book/en/v2/Git-Basics-Working-with-Remotes))"
   ]
  },
  {
   "cell_type": "markdown",
   "metadata": {
    "slideshow": {
     "slide_type": "subslide"
    }
   },
   "source": [
    "**Push and Pull**\n",
    "\n",
    "To bring the most recent code onto your computer,\n",
    "\n",
    "`git pull <remote name> <branch>`\n",
    "\n",
    "To update the remote repository with your most recent code,\n",
    "\n",
    "`git push <remote name> <branch>`"
   ]
  },
  {
   "cell_type": "markdown",
   "metadata": {
    "slideshow": {
     "slide_type": "subslide"
    }
   },
   "source": [
    "**Pull request**\n",
    "\n",
    "Often, when you interact with code from another person's project, they'll ask you to add code through a pull request. Let's walk through that process:\n",
    "\n",
    "[farkle repository](https://github.com/sglyon/farkle)"
   ]
  },
  {
   "cell_type": "markdown",
   "metadata": {
    "slideshow": {
     "slide_type": "slide"
    }
   },
   "source": [
    "### What we learned\n",
    "\n",
    "* Code style\n",
    "* Templated our `State` class\n",
    "* git branching\n",
    "* github pull request"
   ]
  }
 ],
 "metadata": {
  "celltoolbar": "Slideshow",
  "kernelspec": {
   "display_name": "py3chase",
   "language": "python",
   "name": "py3chase"
  },
  "language_info": {
   "codemirror_mode": {
    "name": "ipython",
    "version": 3
   },
   "file_extension": ".py",
   "mimetype": "text/x-python",
   "name": "python",
   "nbconvert_exporter": "python",
   "pygments_lexer": "ipython3",
   "version": "3.7.3"
  }
 },
 "nbformat": 4,
 "nbformat_minor": 4
}
