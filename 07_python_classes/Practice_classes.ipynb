{
 "cells": [
  {
   "cell_type": "markdown",
   "metadata": {
    "slideshow": {
     "slide_type": "slide"
    }
   },
   "source": [
    "### Introduction"
   ]
  },
  {
   "cell_type": "code",
   "execution_count": 1,
   "metadata": {
    "slideshow": {
     "slide_type": "-"
    }
   },
   "outputs": [
    {
     "name": "stdout",
     "output_type": "stream",
     "text": [
      "3.141592653589793\n"
     ]
    }
   ],
   "source": [
    "from math import pi\n",
    "print(pi)"
   ]
  },
  {
   "cell_type": "code",
   "execution_count": 5,
   "metadata": {},
   "outputs": [],
   "source": [
    "class Circle(object):\n",
    "    \n",
    "    \"\"\"computes area and circumferenceof circles of radius R\"\"\"\n",
    "    \n",
    "    def __init__(self, r=1):\n",
    "        \"Initialize circle with radius r\"\n",
    "        self.r = r\n",
    "\n",
    "    def area(self):\n",
    "        \"area of circle of radius r\"\n",
    "        return pi*self.r**2\n",
    "\n",
    "    def circumference(self):\n",
    "        \"circumference of circle of radius r\"\n",
    "        return 2*pi*self.r\n",
    "    \n",
    "    "
   ]
  },
  {
   "cell_type": "code",
   "execution_count": 6,
   "metadata": {
    "slideshow": {
     "slide_type": "-"
    }
   },
   "outputs": [
    {
     "name": "stdout",
     "output_type": "stream",
     "text": [
      "50.26548245743669 25.132741228718345\n"
     ]
    }
   ],
   "source": [
    "c1=Circle(4)\n",
    "print(c1.area(),c1.circumference())\n"
   ]
  },
  {
   "cell_type": "code",
   "execution_count": 7,
   "metadata": {
    "slideshow": {
     "slide_type": "slide"
    }
   },
   "outputs": [],
   "source": [
    "class Consumer:\n",
    "\n",
    "    def __init__(self, w):\n",
    "        \"Initialize consumer with w dollars of wealth\"\n",
    "        self.wealth = w\n",
    "\n",
    "    def earn(self, y):\n",
    "        \"The consumer earns y dollars\"\n",
    "        self.wealth += y\n",
    "\n",
    "    def spend(self, x):\n",
    "        \"The consumer spends x dollars if feasible\"\n",
    "        new_wealth = self.wealth - x\n",
    "        if new_wealth < 0:\n",
    "            print(\"Insufficent funds\")\n",
    "        else:\n",
    "            self.wealth = new_wealth"
   ]
  },
  {
   "cell_type": "code",
   "execution_count": 8,
   "metadata": {},
   "outputs": [],
   "source": [
    "class Sphere:\n",
    "    \n",
    "    \"\"\" computes volume and surface of sphere of radius r \"\"\"\n",
    "\n",
    "    \n",
    "    def __init__(self,r=1):   # radius of sphere\n",
    "        \"Initialize sphere with radius r\"\n",
    "        self.r = r \n",
    "    \n",
    "    \n",
    "    def volume(self):\n",
    "        \"Volume of sphere of radius r\"\n",
    "        return (4/3)*pi*(self.r)**3\n",
    "    \n",
    "    \n",
    "    def surface(self):\n",
    "        \"Surface of a sphere of radius r\"\n",
    "        return 4*pi*(self.r)**2"
   ]
  },
  {
   "cell_type": "code",
   "execution_count": 9,
   "metadata": {},
   "outputs": [],
   "source": [
    "class Box:\n",
    "  \n",
    "    r\"\"\"computes volume and surface of a box of dimensions width, height, length = w, h, l \"\"\"\n",
    "    \n",
    "    def __init__(self, w = 1,   # width\n",
    "                       h = 1,   # height\n",
    "                       l = 1):   # length\n",
    "        \"Intialize box with width, height, length w, h, l\"\n",
    "        self.w, self.h, self.l = w, h, l\n",
    "        \n",
    "    def volume(self):\n",
    "        \"volume of a box of width, height, length w, h, l\"\n",
    "        return self.w * self.h * self.l\n",
    "    \n",
    "    def surface(self):\n",
    "        \"surface of a box of width, height, length w, h, l\"\n",
    "        return 2 *(self.w * self.w + self.h * self.l + self.w * self.l )\n",
    "        \n",
    "        \n",
    "    "
   ]
  },
  {
   "cell_type": "code",
   "execution_count": 10,
   "metadata": {},
   "outputs": [],
   "source": [
    "s1 = Sphere(2)\n",
    "b1=Box(2,3,4)"
   ]
  },
  {
   "cell_type": "code",
   "execution_count": 11,
   "metadata": {},
   "outputs": [
    {
     "name": "stdout",
     "output_type": "stream",
     "text": [
      "24 48\n"
     ]
    }
   ],
   "source": [
    "print(b1.volume(),\n",
    "b1.surface())"
   ]
  },
  {
   "cell_type": "code",
   "execution_count": 12,
   "metadata": {},
   "outputs": [
    {
     "data": {
      "text/plain": [
       "3"
      ]
     },
     "execution_count": 12,
     "metadata": {},
     "output_type": "execute_result"
    }
   ],
   "source": [
    "b1.h"
   ]
  },
  {
   "cell_type": "code",
   "execution_count": 13,
   "metadata": {},
   "outputs": [
    {
     "data": {
      "text/plain": [
       "33.510321638291124"
      ]
     },
     "execution_count": 13,
     "metadata": {},
     "output_type": "execute_result"
    }
   ],
   "source": [
    "s1.volume()"
   ]
  },
  {
   "cell_type": "code",
   "execution_count": 14,
   "metadata": {},
   "outputs": [
    {
     "name": "stdout",
     "output_type": "stream",
     "text": [
      "33.510321638291124\n"
     ]
    }
   ],
   "source": [
    "print(s1.volume())"
   ]
  },
  {
   "cell_type": "code",
   "execution_count": 15,
   "metadata": {},
   "outputs": [
    {
     "data": {
      "text/plain": [
       "50.26548245743669"
      ]
     },
     "execution_count": 15,
     "metadata": {},
     "output_type": "execute_result"
    }
   ],
   "source": [
    "s1.surface()"
   ]
  },
  {
   "cell_type": "code",
   "execution_count": 16,
   "metadata": {},
   "outputs": [
    {
     "data": {
      "text/plain": [
       "50.26548245743669"
      ]
     },
     "execution_count": 16,
     "metadata": {},
     "output_type": "execute_result"
    }
   ],
   "source": [
    "s1.surface()"
   ]
  },
  {
   "cell_type": "code",
   "execution_count": null,
   "metadata": {},
   "outputs": [],
   "source": []
  }
 ],
 "metadata": {
  "celltoolbar": "Slideshow",
  "kernelspec": {
   "display_name": "Python 3",
   "language": "python",
   "name": "python3"
  },
  "language_info": {
   "codemirror_mode": {
    "name": "ipython",
    "version": 3
   },
   "file_extension": ".py",
   "mimetype": "text/x-python",
   "name": "python",
   "nbconvert_exporter": "python",
   "pygments_lexer": "ipython3",
   "version": "3.7.4"
  }
 },
 "nbformat": 4,
 "nbformat_minor": 4
}
