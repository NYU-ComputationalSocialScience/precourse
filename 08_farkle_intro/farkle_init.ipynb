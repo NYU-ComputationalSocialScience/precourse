{
 "cells": [
  {
   "cell_type": "markdown",
   "metadata": {
    "slideshow": {
     "slide_type": "slide"
    }
   },
   "source": [
    "# Project: farkle dice game\n",
    "\n",
    "Spencer Lyon & Chase Coleman"
   ]
  },
  {
   "cell_type": "markdown",
   "metadata": {
    "slideshow": {
     "slide_type": "subslide"
    }
   },
   "source": [
    "- We would like to introduce a number of tools\n",
    "    - Python project structure\n",
    "    - Code style and conventions\n",
    "    - Version control (git)\n",
    "    - Collaboration (github)\n",
    "    - Testing (pytest)\n",
    "- To demonstrate these topics we will work on a \"fun\" project...\n",
    "\n",
    "We will be implementing a dice game called farkle"
   ]
  },
  {
   "cell_type": "markdown",
   "metadata": {
    "slideshow": {
     "slide_type": "slide"
    }
   },
   "source": [
    "## Farkle\n",
    "\n",
    "Farkle is a multiplayer game played with six dice\n",
    "\n",
    "We'll provide a brief overview of the rules here\n",
    "\n",
    "For more information see the rules page at [dicegamedepot.com](https://www.dicegamedepot.com/farkle-rules/)"
   ]
  },
  {
   "cell_type": "markdown",
   "metadata": {
    "slideshow": {
     "slide_type": "subslide"
    }
   },
   "source": [
    "### Overview\n",
    "\n",
    "Objective: earn 10,000 points\n",
    "\n",
    "Equipment: Six six-sided dice and a score sheet"
   ]
  },
  {
   "cell_type": "markdown",
   "metadata": {
    "slideshow": {
     "slide_type": "subslide"
    }
   },
   "source": [
    "### Gameplay\n",
    "\n",
    "One player is designated as the current player\n",
    "\n",
    "On each turn, the current player...\n",
    "\n",
    "- Rolls all six dice\n",
    "- The player may choose to set aside any dice that are scorable (scoring to come soon)\n",
    "- The player then chooses to either\n",
    "    - stop and score current points\n",
    "    - continue rolling the dice that have not been set aside\n",
    "- The player then repeats the roll -> set aside -> choose to score or stop using all un-used dice\n",
    "- If a player is able to score with all un-used dice, all six dice are picked up and rolled again\n",
    "- If a roll does not lead to any possibile scoring dice, the player's turn is over and they get 0 points"
   ]
  },
  {
   "cell_type": "markdown",
   "metadata": {
    "slideshow": {
     "slide_type": "subslide"
    }
   },
   "source": [
    "### Scoring\n",
    "\n",
    "Scoring a die or some dice is as follows:\n",
    "\n",
    "\n",
    "\n",
    "| Dice | Score |\n",
    "| ---- | ----- |\n",
    "| 1 | 100 | \n",
    "| 5 | 50 |\n",
    "| 3 1's | 1000 |\n",
    "| 3 2's | 200 |\n",
    "| 3 3's | 300 |\n",
    "| 3 4's | 400 |\n",
    "| 3 5's | 500 |\n",
    "| 3 6's | 600 |\n",
    "| 1-2-3-4-5-6 | 3000 |\n",
    "| 3 pairs | 1500 |\n",
    "| 4 of a kind | 1000 |\n",
    "| 5 of a kind | 2000 |\n",
    "| 6 of a kind | 3000 |\n",
    "| two triplets | 2500 |\n",
    "\n",
    "Note that multi-dice scoring options only apply to dice rolled on a single roll\n",
    "\n",
    "Any dice previously set aside cannot be used as part of a multi-dice score"
   ]
  },
  {
   "cell_type": "markdown",
   "metadata": {
    "slideshow": {
     "slide_type": "subslide"
    }
   },
   "source": [
    "### Examples\n",
    "\n",
    "Let's work through some examples.\n",
    "\n",
    "Suppose Pam and Jim are playing and Pam is the first player\n",
    "\n",
    "Her turn goes as follows:\n",
    "\n",
    "- Rolls `[1, 2, 2, 3, 5, 6]`: sets aside the `1` and `5` and notes that she currently has 150 points\n",
    "- Chooses to re-roll and gets `[3, 3, 3, 4]`: sets aside the `3`'s and notes she now has 450 points (150 + 300)\n",
    "- Chooses to stop her turn and score a total of 450 points\n",
    "\n",
    "It is now Jim's turn and his turn goes as follows:\n",
    "\n",
    "- Rolls `[2, 2, 4, 4, 6, 6]`: sets aside all dice and scores 1500 for the three pairs\n",
    "- Chooses to pick up all six dice and rolls: `[2, 3, 4, 4, 6, 2]`\n",
    "- Jim can't score with any dice from his second roll and must end is turn with 0 points (he does not get the 1500)"
   ]
  },
  {
   "cell_type": "markdown",
   "metadata": {
    "slideshow": {
     "slide_type": "slide"
    }
   },
   "source": [
    "## Project structure\n",
    "\n",
    "Let's start our farkle adventure by setting up a python project directory\n",
    "\n",
    "We'll use a tool called [cookiecutter](https://github.com/cookiecutter/cookiecutter) to bootstrap the project structure\n",
    "\n",
    "After we let cookiecutter get things set up for us, we'll review which files were created and discuss their purpose"
   ]
  },
  {
   "cell_type": "markdown",
   "metadata": {
    "slideshow": {
     "slide_type": "subslide"
    }
   },
   "source": [
    "We will need to run commands in a terminal, shell, or command prompt\n",
    "\n",
    "To do this I will switch to JupyterLab, which allows me to have this notebook alongside a terminal\n",
    "\n",
    "You may choose to do this, or launch a terminal using your preferred method for your operating system"
   ]
  },
  {
   "cell_type": "markdown",
   "metadata": {
    "slideshow": {
     "slide_type": "subslide"
    }
   },
   "source": [
    "Once in the terminal we first need to install cookiecutter:\n",
    "\n",
    "\n",
    "```\n",
    "pip install cookiecutter\n",
    "```\n",
    "\n",
    "After this completes we will run \n",
    "\n",
    "```\n",
    "cookiecutter  https://github.com/kragniz/cookiecutter-pypackage-minimal.git\n",
    "```\n",
    "\n",
    "This will ask us a series of questions, please fill in answers appropriate for you\n",
    "\n",
    "\n",
    "They could be similar to the answers I will provide, but this is not strictly necessary"
   ]
  },
  {
   "cell_type": "markdown",
   "metadata": {
    "slideshow": {
     "slide_type": "subslide"
    }
   },
   "source": [
    "### Review structure\n",
    "\n",
    "Let's review what was created\n",
    "\n",
    "I will use the unix `tree` command to show us the file and folder structure of the new `farkle` directory:\n",
    "\n",
    "```\n",
    "$ tree farkle -a\n",
    "farkle\n",
    "├── farkle\n",
    "│   └── __init__.py\n",
    "├── .gitignore\n",
    "├── LICENSE\n",
    "├── README.rst\n",
    "├── setup.py\n",
    "├── tests\n",
    "│   └── test_sample.py\n",
    "└── tox.ini\n",
    "```\n",
    "\n",
    "We'll review each item"
   ]
  },
  {
   "cell_type": "markdown",
   "metadata": {
    "slideshow": {
     "slide_type": "subslide"
    }
   },
   "source": [
    "```\n",
    "$ tree farkle -a\n",
    "farkle\n",
    "├── farkle\n",
    "│   └── __init__.py\n",
    "...\n",
    "```\n",
    "\n",
    "The `farkle` folder containing an `__init__.py` sets up a python [module](https://docs.python.org/3/tutorial/modules.html)\n",
    "\n",
    "This will allow us to do `import farkle` from a python session\n",
    "\n",
    "We can then access `farkle.XXX` where `XXX` is the name of a function, variable, or class visible in `__init__.py`\n",
    "\n",
    "We'll be adding to this file as we work on our project"
   ]
  },
  {
   "cell_type": "markdown",
   "metadata": {
    "slideshow": {
     "slide_type": "subslide"
    }
   },
   "source": [
    "```\n",
    "$ tree farkle -a\n",
    "farkle\n",
    "...\n",
    "├── setup.py\n",
    "...\n",
    "```\n",
    "\n",
    "The `setup.py` file is where we include configuration and instructions that allow others to install our `farkle` package\n",
    "\n",
    "We won't change this much, but it is important to have"
   ]
  },
  {
   "cell_type": "markdown",
   "metadata": {
    "slideshow": {
     "slide_type": "subslide"
    }
   },
   "source": [
    "```\n",
    "$ tree farkle -a\n",
    "farkle\n",
    "...\n",
    "├── LICENSE\n",
    "├── README.rst\n",
    "...\n",
    "```\n",
    "\n",
    "The `LICENSE` file contains a software license that describes to others how they are allowed to use our code\n",
    "\n",
    "The `README.rst` file is where we will put basic instructions for how to use our `farkle` library\n",
    "\n",
    "On GitHub, this file will be rendered in pretty html form when users visit our repository (more on git and GitHub coming soon!)"
   ]
  },
  {
   "cell_type": "markdown",
   "metadata": {
    "slideshow": {
     "slide_type": "subslide"
    }
   },
   "source": [
    "```\n",
    "$ tree farkle -a\n",
    "farkle\n",
    "...\n",
    "├── tests\n",
    "│   └── test_sample.py\n",
    "└── tox.ini\n",
    "```\n",
    "\n",
    "The `tests` folder will contain the tests we write that ensure the correctness of our code\n",
    "\n",
    "The `tox.ini` file allows us to configure running these tests using multiple versions of python 3"
   ]
  },
  {
   "cell_type": "markdown",
   "metadata": {
    "slideshow": {
     "slide_type": "subslide"
    }
   },
   "source": [
    "```\n",
    "$ tree farkle -a\n",
    "...\n",
    "├── .gitignore\n",
    "...\n",
    "```\n",
    "\n",
    "Finally, the `.gitignore` file is where we list files that shouldn't be tracked by git\n",
    "\n",
    "The contents of this file are sufficient for our purposes so we won't be using this directly\n",
    "\n",
    "For more information see the [docs](https://git-scm.com/docs/gitignore)"
   ]
  },
  {
   "cell_type": "markdown",
   "metadata": {
    "slideshow": {
     "slide_type": "slide"
    }
   },
   "source": [
    "## Summary\n",
    "\n",
    "In this lecture we did two main things:\n",
    "\n",
    "1. Learned the basics of the farkle dice game\n",
    "    - Including equipment, rules, and gameplay\n",
    "    - Reviewed some scoring examples\n",
    "2. Set up a python package for our implementation of farkle\n",
    "    - Installed and used `cookiecutter`\n",
    "    - Reviewed main components of Python packages:\n",
    "        - Folder and `__init__.py` to make things importable\n",
    "        - `setup.py` to make our package installable\n",
    "        - LICENSE and README provide potential users usability constraints and instructions\n",
    "        - `tests/` folder and `tox.ini` to configure tests\n",
    "        - .gitignore to keep things tidy\n",
    "\n",
    "Next time we will start implementing the farkle game!"
   ]
  },
  {
   "cell_type": "code",
   "execution_count": null,
   "metadata": {},
   "outputs": [],
   "source": []
  }
 ],
 "metadata": {
  "kernelspec": {
   "display_name": "Python 3",
   "language": "python",
   "name": "python3"
  },
  "language_info": {
   "codemirror_mode": {
    "name": "ipython",
    "version": 3
   },
   "file_extension": ".py",
   "mimetype": "text/x-python",
   "name": "python",
   "nbconvert_exporter": "python",
   "pygments_lexer": "ipython3",
   "version": "3.8.3"
  }
 },
 "nbformat": 4,
 "nbformat_minor": 4
}
