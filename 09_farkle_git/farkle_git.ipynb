{
 "cells": [
  {
   "cell_type": "markdown",
   "metadata": {
    "slideshow": {
     "slide_type": "slide"
    }
   },
   "source": [
    "# Project: farkle dice game\n",
    "\n",
    "### git\n",
    "\n",
    "<br><br>\n",
    "\n",
    "**Spencer Lyon and Chase Coleman**"
   ]
  },
  {
   "cell_type": "markdown",
   "metadata": {
    "slideshow": {
     "slide_type": "subslide"
    }
   },
   "source": [
    "## Review\n",
    "\n",
    "1. Learned the basics of the farkle dice game\n",
    "2. Python package structure (`setup.py`, `farkle` and `__init__.py`, `tests`, `LICENSE`, `README`)"
   ]
  },
  {
   "cell_type": "markdown",
   "metadata": {
    "slideshow": {
     "slide_type": "subslide"
    }
   },
   "source": [
    "## Today\n",
    "\n",
    "1. Version control with git\n",
    "2. Begin writing `farkle` code"
   ]
  },
  {
   "cell_type": "markdown",
   "metadata": {
    "slideshow": {
     "slide_type": "slide"
    }
   },
   "source": [
    "### `git`\n",
    "\n",
    "\n",
    "<div style=\"max-width: 600px; margin:0 auto;\">\n",
    "  <img src=\"https://github.com/jstac/quantecon_nyu_2016/raw/master/lecture2/git_intro/images/phd101212s.gif\" style=\"max-width:60%;\"/>\n",
    "</div>\n",
    "\n",
    "**Attribution** [\"Piled Higher and Deeper\" by Jorge Cham](http://phdcomics.com/comics/archive.php?comicid=1531)"
   ]
  },
  {
   "cell_type": "markdown",
   "metadata": {
    "slideshow": {
     "slide_type": "subslide"
    }
   },
   "source": [
    "### What is git?\n",
    "\n",
    "`git` is \"a distributed version-control system for tracking changes in source code during software development\"\n",
    "\n",
    "<br>\n",
    "\n",
    "**Version control**\n",
    "\n",
    "Version control means that the goal is to manage the history and versions of different files\n",
    "\n",
    "**Distributed**\n",
    "\n",
    "Distributed means that the history of these changes is kept on each computer that uses the files\n"
   ]
  },
  {
   "cell_type": "markdown",
   "metadata": {
    "slideshow": {
     "slide_type": "subslide"
    }
   },
   "source": [
    "### Installing git\n",
    "\n",
    "See [this link](https://www.atlassian.com/git/tutorials/install-git)"
   ]
  },
  {
   "cell_type": "markdown",
   "metadata": {
    "slideshow": {
     "slide_type": "-"
    }
   },
   "source": [
    "**Configuration**\n",
    "\n",
    "Open a command prompt or terminal and add some configuration options.\n",
    "\n",
    "* Set name: `git config --global user.name FirstName LastName`\n",
    "* Set email: `git config --global user.email email@email.com`\n",
    "* Sets git colors: `git config --global color.ui \"auto\"`"
   ]
  },
  {
   "cell_type": "markdown",
   "metadata": {
    "slideshow": {
     "slide_type": "subslide"
    }
   },
   "source": [
    "### Using `git`\n",
    "\n",
    "Many people associate `git` with the cloud based repository service Github, but `git` can be run independently either just on your own computer or on a self-hosted server. In this short tutorial, we are going to create a `git` repository hosted on our computer. We will then talk about some of the day to day commads that will be used in `git`.\n",
    "\n",
    "**WARNING**: Until you know what you're doing and how the each command works, NEVER use the `-f` or `--force` flags no matter what the internet tells you..."
   ]
  },
  {
   "cell_type": "markdown",
   "metadata": {
    "slideshow": {
     "slide_type": "subslide"
    }
   },
   "source": [
    "**Initializing a `git` repository**\n",
    "\n",
    "If you would like to follow along, make sure you have a folder on your computer called `farkle` with the project setup discussed previously.\n",
    "\n",
    "Enter that directory using `cd farkle`.\n",
    "\n",
    "To initialize this directory as a `git` repository (which in the background will create a series of directories and files) we will use the command `git init`.\n"
   ]
  },
  {
   "cell_type": "markdown",
   "metadata": {
    "slideshow": {
     "slide_type": "subslide"
    }
   },
   "source": [
    "**Four Stages of Files**\n",
    "\n",
    "Files in a git repository can be in four different stages: untracked, unstaged, staged, and committed.\n",
    "\n",
    "* Untracked: This is a new file that your repository hasn't seen before.\n",
    "* Unstaged: A file that has previously been tracked and saved, but has changed since its last version.\n",
    "* Staged: A file that has been changed and is prepared to be committed. Nothing is set in stone yet though and new changes can be made.\n",
    "* Committed: When a file is committed it becomes a piece of the history of the repository. This moment of time in the file will be able to be referenced or referred to in the future.\n",
    "\n",
    "The picture below illustrates this \"life cycle\"\n",
    "\n",
    "<div style=\"max-width: 600px; margin:0 auto;\">\n",
    "<img src=\"https://github.com/jstac/quantecon_nyu_2016/raw/master/lecture2/git_intro/images/gitlifecycle.png\" style=\"max-width:100%;\"/>\n",
    "</div>\n",
    "\n",
    "**Attribution**: [Pro Git Book](https://git-scm.com/book/en/v2/Git-Basics-Recording-Changes-to-the-Repository)"
   ]
  },
  {
   "cell_type": "markdown",
   "metadata": {
    "slideshow": {
     "slide_type": "subslide"
    }
   },
   "source": [
    "**Basic commands**\n",
    "\n",
    "* `git status`: Checks the current status of each file\n",
    "* `git add <filename>`: Moves a file from untracked/modified to staged\n",
    "* `git commit -m \"<Write message here>\"`: Moves a file from staged to unmodified by saving a snapshot of the file to the history\n",
    "* `git diff <filename>`: Displays the changes to a modified file\n"
   ]
  },
  {
   "cell_type": "markdown",
   "metadata": {
    "slideshow": {
     "slide_type": "subslide"
    }
   },
   "source": [
    "**Checking the history**\n",
    "\n",
    "You can check the history with `git log` or `git log --pretty=oneline`"
   ]
  },
  {
   "cell_type": "markdown",
   "metadata": {
    "slideshow": {
     "slide_type": "subslide"
    }
   },
   "source": [
    "**Git Technical References**\n",
    "\n",
    "* [Software Carpentry: Git Lectures](https://swcarpentry.github.io/git-novice/)\n",
    "* [Pro Git](http://git-scm.com/)\n",
    "* [Git Tower](https://www.git-tower.com/learn)\n",
    "\n",
    "**Additional references for why you should use `git`**\n",
    "\n",
    "* [Difference between git and Dropbox](https://gist.github.com/magicseth/1951984)\n",
    "* [Version control for scientific research](http://blogs.biomedcentral.com/bmcblog/2013/02/28/version-control-for-scientific-research/)\n",
    "* [Why Physicists Should Use Git Or Why Everyone Should Try Git](http://openmetric.org/assets/slides/whygit/#/)\n",
    "* [Git can facilitate greater reproducibility and increased transparency in science](http://www.ncbi.nlm.nih.gov/pmc/articles/PMC3639880/)"
   ]
  },
  {
   "cell_type": "markdown",
   "metadata": {
    "slideshow": {
     "slide_type": "slide"
    }
   },
   "source": [
    "## Developing farkle game\n",
    "\n",
    "We often find that it's helpful to use pen and paper to think about the code you're going to write before you start writing code...\n",
    "\n",
    "Let's practice that habit here by discussing what pieces come in play when creating a Python implementation of farkle."
   ]
  },
  {
   "cell_type": "markdown",
   "metadata": {
    "slideshow": {
     "slide_type": "-"
    }
   },
   "source": [
    "**Needed to play farkle**\n",
    "\n",
    "* Dice\n",
    "* Decision options\n",
    "* Scoring rules\n",
    "* People to play with\n",
    "\n",
    "Take a few minutes to think about how you would tie these pieces together."
   ]
  },
  {
   "cell_type": "markdown",
   "metadata": {
    "slideshow": {
     "slide_type": "subslide"
    }
   },
   "source": [
    "**Our plan**\n",
    "\n",
    "There are multiple ways to do this, but we think one natural way is to do the following:\n",
    "\n",
    "1. Create a `Dice` class that can be used to roll a single dice and keep track of its value\n",
    "2. A `State` class that keeps track of the scores, dictates which actions a player can take, and determines when a turn ends\n",
    "3. A generic `FarklePlayer` class that has methods for which action a player takes given the current `State`\n",
    "4. A `Farkle` class that generally manages the game"
   ]
  },
  {
   "cell_type": "markdown",
   "metadata": {
    "slideshow": {
     "slide_type": "subslide"
    }
   },
   "source": [
    "### Dice\n",
    "\n",
    "What do we need the dice class to do?\n",
    "\n",
    "* Roll dice\n",
    "* Track the value of those rolls\n",
    "\n",
    "**Exercise**: Write an implementation of a `Dice` object."
   ]
  },
  {
   "cell_type": "markdown",
   "metadata": {
    "slideshow": {
     "slide_type": "subslide"
    }
   },
   "source": [
    "### Dice: Our implementation"
   ]
  },
  {
   "cell_type": "code",
   "execution_count": 2,
   "metadata": {
    "slideshow": {
     "slide_type": "-"
    }
   },
   "outputs": [],
   "source": [
    "import random\n",
    "\n",
    "\n",
    "class Dice(object):\n",
    "    \"\"\"\n",
    "    A 6-sided dice object that can be used in dice games implemented\n",
    "    in Python\n",
    "\n",
    "    The dice can take the values 1, 2, 3, 4, 5, 6\n",
    "\n",
    "    The dice keeps track of the most recently rolled value in the\n",
    "    `value` property. This value is `None` until the dice is rolled.\n",
    "\n",
    "    Methods\n",
    "    -------\n",
    "    roll :\n",
    "        Rolls the dice and gives a random integer\n",
    "    \"\"\"\n",
    "\n",
    "    def __init__(self, value=None):\n",
    "        self.value = value\n",
    "        self.unicode_dice = {\n",
    "            1: \"\\u2680\",\n",
    "            2: \"\\u2681\",\n",
    "            3: \"\\u2682\",\n",
    "            4: \"\\u2683\",\n",
    "            5: \"\\u2684\",\n",
    "            6: \"\\u2685\",\n",
    "        }\n",
    "        if value is None:\n",
    "            self.roll()\n",
    "\n",
    "    def __eq__(self, other: \"Dice\"):\n",
    "        return self.value == other.value\n",
    "\n",
    "    def __repr__(self):\n",
    "        if self.value is None:\n",
    "            msg = \"The dice has not been rolled\"\n",
    "        else:\n",
    "            msg = f\"{self.unicode_dice[self.value]}\"\n",
    "\n",
    "        return msg\n",
    "\n",
    "    def roll(self):\n",
    "        \"\"\"\n",
    "        Rolls the dice and reset the current value\n",
    "\n",
    "        Returns\n",
    "        -------\n",
    "        value : int\n",
    "            The number rolled by the dice\n",
    "        \"\"\"\n",
    "        value = random.randint(1, 6)\n",
    "        self.value = value\n",
    "\n",
    "        return value\n",
    "\n"
   ]
  },
  {
   "cell_type": "code",
   "execution_count": 7,
   "metadata": {
    "slideshow": {
     "slide_type": "-"
    }
   },
   "outputs": [
    {
     "name": "stdout",
     "output_type": "stream",
     "text": [
      "⚄\n",
      "5\n"
     ]
    }
   ],
   "source": [
    "d = Dice()\n",
    "\n",
    "d.roll()\n",
    "print(d)\n",
    "print(d.value)\n"
   ]
  },
  {
   "cell_type": "markdown",
   "metadata": {
    "slideshow": {
     "slide_type": "-"
    }
   },
   "source": [
    "### Add this to our git repository\n",
    "\n",
    "We will switch to a terminal here and add the dice object to our git repository"
   ]
  },
  {
   "cell_type": "markdown",
   "metadata": {
    "slideshow": {
     "slide_type": "subslide"
    }
   },
   "source": [
    "### What we did today\n",
    "\n",
    "1. Discussed what git is\n",
    "2. Discussed how files move through the git lifecycle\n",
    "3. Implemented a `Dice` class for farkle and added it to a git repository"
   ]
  }
 ],
 "metadata": {
  "celltoolbar": "Slideshow",
  "kernelspec": {
   "display_name": "py3chase",
   "language": "python",
   "name": "py3chase"
  },
  "language_info": {
   "codemirror_mode": {
    "name": "ipython",
    "version": 3
   },
   "file_extension": ".py",
   "mimetype": "text/x-python",
   "name": "python",
   "nbconvert_exporter": "python",
   "pygments_lexer": "ipython3",
   "version": "3.7.3"
  }
 },
 "nbformat": 4,
 "nbformat_minor": 4
}
